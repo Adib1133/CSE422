{
  "nbformat": 4,
  "nbformat_minor": 0,
  "metadata": {
    "colab": {
      "provenance": []
    },
    "kernelspec": {
      "name": "python3",
      "display_name": "Python 3"
    },
    "language_info": {
      "name": "python"
    }
  },
  "cells": [
    {
      "cell_type": "code",
      "source": [
        "import heapq\n",
        "\n",
        "class TreeBuilder:\n",
        "    def __init__(self):\n",
        "        self.edges = {}\n",
        "    def add_edge(self, node, neighbors):\n",
        "        self.edges[node] = neighbors\n",
        "    def heuristic(self, node, target):\n",
        "        return 0\n",
        "\n",
        "graph = TreeBuilder()\n",
        "with open(\"input.txt\") as file:\n",
        "    line = file.readline()\n",
        "    while line:\n",
        "        line = line.strip().split()\n",
        "        node = line[0]\n",
        "        heuristic_value = int(line[1])\n",
        "        neighbors = {}\n",
        "        i = 2\n",
        "        while i < len(line):\n",
        "            neighbor = line[i]\n",
        "            distance = int(line[i + 1])\n",
        "            neighbors[neighbor] = distance\n",
        "            i += 2\n",
        "        graph.add_edge(node, neighbors)\n",
        "        line = file.readline()\n",
        "\n",
        "\n",
        "def astar_algorithm(graph, start, end):\n",
        "    priority_queue = []\n",
        "    heapq.heappush(priority_queue, (0, start))\n",
        "    parent_node = {}\n",
        "    total_cost = {}\n",
        "    parent_node[start] = None\n",
        "    total_cost[start] = 0\n",
        "    while priority_queue:\n",
        "        current = heapq.heappop(priority_queue)[1]\n",
        "        if current == end:\n",
        "            break\n",
        "        for neighbor, total_distance in graph.edges[current].items():\n",
        "            new_cost = total_cost[current] + total_distance\n",
        "            if neighbor not in total_cost or new_cost < total_cost[neighbor]:\n",
        "                total_cost[neighbor] = new_cost\n",
        "                priority = new_cost + graph.heuristic(neighbor, end)\n",
        "                heapq.heappush(priority_queue, (priority, neighbor))\n",
        "                parent_node[neighbor] = current\n",
        "    path_tracking = [end]\n",
        "    while path_tracking[-1] != start:\n",
        "        path_tracking.append(parent_node[path_tracking[-1]])\n",
        "    path_tracking.reverse()\n",
        "    total_distance = total_cost[end]\n",
        "    return path_tracking, total_distance\n",
        "\n",
        "start_node = input(\"Start Node: \")\n",
        "destination = input(\"Destination: \")\n",
        "path, distance = astar_algorithm(graph, start_node, destination)\n",
        "print(\" -> \".join(path))\n",
        "print(\"Total distance:\", distance, \"km\")"
      ],
      "metadata": {
        "colab": {
          "base_uri": "https://localhost:8080/"
        },
        "id": "Tc_eM_OqjLQK",
        "outputId": "9981f8ef-b8b2-4359-e70e-683cc39ba8f7"
      },
      "execution_count": null,
      "outputs": [
        {
          "output_type": "stream",
          "name": "stdout",
          "text": [
            "Start Node: Arad\n",
            "Destination: Lugoj\n",
            "Arad -> Timisoara -> Lugoj\n",
            "Total distance: 229 km\n"
          ]
        }
      ]
    }
  ]
}