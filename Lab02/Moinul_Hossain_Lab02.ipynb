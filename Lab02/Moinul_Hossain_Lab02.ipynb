{
  "nbformat": 4,
  "nbformat_minor": 0,
  "metadata": {
    "colab": {
      "provenance": []
    },
    "kernelspec": {
      "name": "python3",
      "display_name": "Python 3"
    },
    "language_info": {
      "name": "python"
    }
  },
  "cells": [
    {
      "cell_type": "code",
      "source": [
        "import random as rd\n",
        "\n",
        "def mutation(child1, child2):\n",
        "    idx = rd.randint(0, len(child1)-1)\n",
        "    child1[idx] = 1 - child1[idx]\n",
        "    child2[idx] = 1 - child2[idx]\n",
        "    return fitness_function([child1, child2])\n",
        "\n",
        "def crossover(parent1, parent2):\n",
        "    crossover_point = rd.randint(1, len(parent1))\n",
        "    child1 = parent1[:crossover_point] + parent2[crossover_point:]\n",
        "    child2 = parent2[:crossover_point] + parent1[crossover_point:]\n",
        "    return mutation(child1, child2)\n",
        "\n",
        "def selection(fitness_population):\n",
        "    try:\n",
        "        parent1 = fitness_population[0][0]\n",
        "        parent2 = fitness_population[1][0]\n",
        "        return crossover(parent1, parent2)\n",
        "    except:\n",
        "        return -1\n",
        "\n",
        "def fitness_function(population):\n",
        "    c_fitness = []\n",
        "    for chromosome in population:\n",
        "        cnt = sum(lst[i] for i, gene in enumerate(chromosome) if gene == 1)\n",
        "        if cnt == b:\n",
        "            return chromosome\n",
        "        try:\n",
        "            f = 1 / abs(cnt)\n",
        "        except:\n",
        "            continue\n",
        "        c_fitness.append((chromosome, f))\n",
        "    c_fitness = sorted(c_fitness, key=lambda x: x[1], reverse=True)\n",
        "    return selection(c_fitness)\n",
        "\n",
        "def generate_population():\n",
        "    population = []\n",
        "    for _ in range(100):\n",
        "        chromosome = [rd.randint(0, 1) for _ in range(a)]\n",
        "        population.append(chromosome)\n",
        "    return fitness_function(population)\n",
        "\n",
        "# Read input from file\n",
        "with open('input.txt', 'r') as f:\n",
        "    n = f.readline().split(\" \")\n",
        "    a = int(n[0])\n",
        "    b = int(n[1])\n",
        "\n",
        "    lst = []\n",
        "    new_lst = []\n",
        "    for _ in range(a):\n",
        "        temp = f.readline().split(\" \")\n",
        "        lst.append(int(temp[1]))\n",
        "        new_lst.append(temp[0])\n",
        "\n",
        "# Print the player names\n",
        "print(new_lst)\n",
        "\n",
        "# Generate the population and find the result\n",
        "variable = generate_population()\n",
        "if variable == -1:\n",
        "    print(-1)\n",
        "else:\n",
        "    print(*variable, end=\" \")"
      ],
      "metadata": {
        "colab": {
          "base_uri": "https://localhost:8080/"
        },
        "id": "xMEqQIZKlo99",
        "outputId": "0cde3ab0-26da-4a04-faa0-e99e0517c896"
      },
      "execution_count": 4,
      "outputs": [
        {
          "output_type": "stream",
          "name": "stdout",
          "text": [
            "['Ralph', 'John', 'Tom', 'Young']\n",
            "-1\n"
          ]
        }
      ]
    }
  ]
}