{
  "nbformat": 4,
  "nbformat_minor": 0,
  "metadata": {
    "colab": {
      "provenance": []
    },
    "kernelspec": {
      "name": "python3",
      "display_name": "Python 3"
    },
    "language_info": {
      "name": "python"
    }
  },
  "cells": [
    {
      "cell_type": "code",
      "execution_count": 2,
      "metadata": {
        "colab": {
          "base_uri": "https://localhost:8080/"
        },
        "id": "cG4T7JIV9-Zm",
        "outputId": "7c99966d-25dc-41d7-c7b7-440ab90cb351"
      },
      "outputs": [
        {
          "output_type": "stream",
          "name": "stdout",
          "text": [
            "Enter your student ID: 25485465\n",
            "Generate 8 random points between the minimum and maximum point limits: [12, 72, 68, 28, 55, 47, 29, 41]\n",
            "Total points to win: 56\n",
            "Achieved point by applying alpha-beta pruning = 68\n",
            "The winner is Optimus Prime\n"
          ]
        }
      ],
      "source": [
        "from random import randint\n",
        "import random\n",
        "import math\n",
        "\n",
        "student_id = input(\"Enter your student ID: \")\n",
        "student_id = [int(digit) if digit != '0' else 8 for digit in student_id]\n",
        "\n",
        "min_point_limit = int(str(student_id[4]))\n",
        "points_to_win = int(''.join(map(str, student_id[6:]))[::-1])\n",
        "max_point_limit = round(points_to_win * 1.5)\n",
        "s = int(str(student_id[3]))\n",
        "\n",
        "depth_limit = 3\n",
        "branch_factor = 2\n",
        "\n",
        "leaf_node_count = branch_factor ** depth_limit\n",
        "\n",
        "terminate_nodes = []\n",
        "for i in range(leaf_node_count):\n",
        "    value = randint(min_point_limit, max_point_limit)\n",
        "    terminate_nodes.append(value)\n",
        "\n",
        "flag = 0\n",
        "\n",
        "def alpha_beta(node, depth, alpha, beta, maximizing_player, terminate_nodes):\n",
        "    global flag\n",
        "    if depth == depth_limit:\n",
        "        flag += 1\n",
        "        return terminate_nodes[node]\n",
        "\n",
        "    if maximizing_player:\n",
        "        best_value = -math.inf\n",
        "        for i in range(0, branch_factor):\n",
        "            value = alpha_beta(node * branch_factor + i, depth + 1, alpha, beta, False, terminate_nodes)\n",
        "            best_value = max(best_value, value)\n",
        "            alpha = max(alpha, best_value)\n",
        "            if beta <= alpha:\n",
        "                break\n",
        "\n",
        "        return best_value\n",
        "    else:\n",
        "        best_value = math.inf\n",
        "        for i in range(0, branch_factor):\n",
        "            value = alpha_beta(node * branch_factor + i, depth + 1, alpha, beta, True, terminate_nodes)\n",
        "            best_value = min(best_value, value)\n",
        "            beta = min(beta, best_value)\n",
        "            if beta <= alpha:\n",
        "                break\n",
        "        return best_value\n",
        "\n",
        "winner_point = alpha_beta(0, 0, -math.inf, math.inf, True, terminate_nodes)\n",
        "\n",
        "print(f\"Generate {leaf_node_count} random points between the minimum and maximum point limits: {terminate_nodes}\")\n",
        "print(f\"Total points to win: {points_to_win}\")\n",
        "print(f\"Achieved point by applying alpha-beta pruning = {winner_point}\")\n",
        "\n",
        "if winner_point >= points_to_win:\n",
        "    print(\"The winner is Optimus Prime\")\n",
        "else:\n",
        "    print(\"The Winner is Megatron\")"
      ]
    },
    {
      "cell_type": "code",
      "source": [
        "pk=[]\n",
        "for i in range(s):\n",
        "    random.shuffle(terminate_nodes)\n",
        "    destroyed_lifeline1 = alpha_beta(0, 0, -math.inf, math.inf, True, terminate_nodes)\n",
        "    pk.append(destroyed_lifeline1)\n",
        "\n",
        "print(\"After the shuffle: \")\n",
        "print(f\"List of all points values from each shuffles: {pk} \")\n",
        "print(f\"The maximum value of all shuffles: {max(pk)}\")\n",
        "\n",
        "count=0\n",
        "for i in range(len(pk)):\n",
        "    if pk[i]>=points_to_win:\n",
        "        count+=1\n",
        "    else:\n",
        "        continue\n",
        "\n",
        "print(f\"Won {count} times out of {s} number of shuffles\")"
      ],
      "metadata": {
        "colab": {
          "base_uri": "https://localhost:8080/"
        },
        "id": "_Bd_RugS-AUE",
        "outputId": "4b10caea-d3a2-4293-cee1-902b6e68347a"
      },
      "execution_count": 3,
      "outputs": [
        {
          "output_type": "stream",
          "name": "stdout",
          "text": [
            "After the shuffle: \n",
            "List of all points values from each shuffles: [68, 68, 55, 55, 68, 68, 68, 55] \n",
            "The maximum value of all shuffles: 68\n",
            "Won 5 times out of 8 number of shuffles\n"
          ]
        }
      ]
    }
  ]
}